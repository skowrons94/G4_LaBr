{
 "cells": [
  {
   "cell_type": "code",
   "execution_count": 1,
   "metadata": {},
   "outputs": [],
   "source": [
    "import os\n",
    "\n",
    "import numpy as np\n",
    "import pandas as pd\n",
    "import matplotlib as mpl\n",
    "import matplotlib.pyplot as plt\n",
    "\n",
    "from glob import glob"
   ]
  },
  {
   "cell_type": "code",
   "execution_count": 2,
   "metadata": {},
   "outputs": [],
   "source": [
    "def analyze_oxygen(file):\n",
    "    \n",
    "    roi_min = 460\n",
    "    roi_max = 560\n",
    "\n",
    "    source = file.split( \"/\" )[2].split( \"_\" )[0]\n",
    "    x = file.split( \"/\" )[2].split( \"_\" )[1]\n",
    "    y = file.split( \"/\" )[2].split( \"_\" )[2].split( \".pkl\" )[0]\n",
    "    \n",
    "    df = pd.read_pickle( file )\n",
    "\n",
    "    mask_1 = ( df[\"Energy1\"] > roi_min ) & ( df[\"Energy1\"] < roi_max )\n",
    "    mask_2 = ( df[\"Energy2\"] > roi_min ) & ( df[\"Energy2\"] < roi_max )\n",
    "    mask = mask_1 & mask_2\n",
    "\n",
    "    counts = len( df[mask] ) / 1e6\n",
    "\n",
    "    with open( \"results/beamspot/15O.txt\".format( source ), \"a\" ) as f:\n",
    "        f.write( \"{} {} {}\\n\".format( x, y, counts ) )"
   ]
  },
  {
   "cell_type": "code",
   "execution_count": 3,
   "metadata": {},
   "outputs": [],
   "source": [
    "os.system( \"rm results/beamspot/*\" )\n",
    "\n",
    "for file in glob(\"processed/beamspot/*.pkl\"):\n",
    "\n",
    "    source = file.split( \"/\" )[2].split( \"_\" )[0]\n",
    "    x = file.split( \"/\" )[2].split( \"_\" )[1]\n",
    "    y = file.split( \"/\" )[2].split( \"_\" )[2].split( \".pkl\" )[0]\n",
    "    \n",
    "    if( source == \"15O\" ): analyze_oxygen( file )\n",
    "\n"
   ]
  }
 ],
 "metadata": {
  "kernelspec": {
   "display_name": "base",
   "language": "python",
   "name": "python3"
  },
  "language_info": {
   "codemirror_mode": {
    "name": "ipython",
    "version": 3
   },
   "file_extension": ".py",
   "mimetype": "text/x-python",
   "name": "python",
   "nbconvert_exporter": "python",
   "pygments_lexer": "ipython3",
   "version": "3.11.6"
  }
 },
 "nbformat": 4,
 "nbformat_minor": 2
}
